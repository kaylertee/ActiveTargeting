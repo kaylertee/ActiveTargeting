{
 "cells": [
  {
   "cell_type": "markdown",
   "id": "62508080",
   "metadata": {},
   "source": [
    "# TrimPDB\n",
    "Use this notebook to isolate the extracellular domain (ECD) from any protein PDB file. Update the parameters below, then run the notebook top to bottom.\n"
   ]
  },
  {
   "cell_type": "markdown",
   "id": "1c888c56",
   "metadata": {},
   "source": [
    "## 1. Configure inputs\n"
   ]
  },
  {
   "cell_type": "code",
   "execution_count": null,
   "id": "d3b566ab",
   "metadata": {},
   "outputs": [],
   "source": [
    "# --- User Parameters ---\n",
    "\n",
    "from pathlib import Path\n",
    "\n",
    "BINDCRAFT_ROOT = Path(r'/mnt/e/Code/BindCraft').resolve()\n",
    "\n",
    "INPUT_FOLDER = Path('/mnt/e/Code/BindCraft/InputTargets')\n",
    "\n",
    "\n",
    "PDB_NAME = '7AX1.pdb'\n",
    "\n",
    "OUTPUT_NAME = 'CCR4_extracellular.pdb'\n",
    "\n",
    "\n",
    "\n",
    "# Optional: OPM-aligned file (if available) for membrane orientation\n",
    "\n",
    "OPM_PDB_NAME = None  # e.g., 'your_input_opm.pdb'\n",
    "\n",
    "MEMBRANE_HALF_THICKNESS = 15.0  # Angstroms\n",
    "\n",
    "\n",
    "\n",
    "# ECD range\n",
    "\n",
    "Setup_ECD_Range = [('A', 26, 315)]\n",
    "\n",
    "ECD_RANGES = Setup_ECD_Range.copy()\n",
    "\n",
    "STRUCTURE_ID = PDB_NAME\n",
    "\n",
    "CHAIN_IDS = [cid for cid, _, _ in ECD_RANGES]\n",
    "\n"
   ]
  },
  {
   "cell_type": "code",
   "execution_count": null,
   "id": "c3998b25",
   "metadata": {},
   "outputs": [],
   "source": [
    "from Bio.PDB import PDBParser, PDBIO\n",
    "\n",
    "PDB_PATH = INPUT_FOLDER / PDB_NAME\n",
    "\n",
    "OUT_PATH = INPUT_FOLDER / OUTPUT_NAME\n",
    "\n",
    "OPM_PATH = INPUT_FOLDER / OPM_PDB_NAME if OPM_PDB_NAME else None\n",
    "\n",
    "\n",
    "\n",
    "if not PDB_PATH.exists():\n",
    "\n",
    "    raise FileNotFoundError(f'Cannot find {PDB_PATH}. Place the PDB in InputTargets.')\n",
    "\n",
    "\n",
    "\n",
    "BINDCRAFT_ROOT = Path(r'/mnt/e/Code/BindCraft').resolve()\n",
    "\n",
    "print('Input folder :', INPUT_FOLDER)\n",
    "\n",
    "print('Input PDB    :', PDB_PATH)\n",
    "\n",
    "print('Output PDB   :', OUT_PATH)\n",
    "\n",
    "print('Initial ECD ranges:', ECD_RANGES)\n",
    "\n",
    "if OPM_PATH and OPM_PATH.exists():\n",
    "\n",
    "    print('OPM file     :', OPM_PATH)\n",
    "\n",
    "else:\n",
    "\n",
    "    print('OPM file     : None (set OPM_PDB_NAME if available)')\n",
    "\n"
   ]
  },
  {
   "cell_type": "markdown",
   "id": "cd2ddddc",
   "metadata": {},
   "source": [
    "## 2. Collect protein residues from ATOM records\n"
   ]
  },
  {
   "cell_type": "code",
   "execution_count": null,
   "id": "2578d690",
   "metadata": {},
   "outputs": [],
   "source": [
    "from collections import defaultdict\n",
    "\n",
    "protein_residues = defaultdict(set)\n",
    "\n",
    "with open(PDB_PATH) as handle:\n",
    "\n",
    "    for line in handle:\n",
    "\n",
    "        if line.startswith('ATOM'):\n",
    "\n",
    "            chain = line[21].strip() or ' '  # blank chain fallback\n",
    "\n",
    "            resseq = int(line[22:26])\n",
    "\n",
    "            protein_residues[chain].add(resseq)\n",
    "\n",
    "if not protein_residues:\n",
    "\n",
    "    raise ValueError('No ATOM records found; cannot identify protein residues.')\n",
    "\n",
    "print('Protein residue counts:')\n",
    "\n",
    "for chain, residues in protein_residues.items():\n",
    "\n",
    "    print(f'  Chain {chain}: {len(residues)} residues (min {min(residues)} max {max(residues)})')\n",
    "\n"
   ]
  },
  {
   "cell_type": "code",
   "execution_count": null,
   "id": "5d28b372",
   "metadata": {},
   "outputs": [],
   "source": [
    "segments = {chain: (min(res), max(res), len(res)) for chain, res in protein_residues.items()}\n",
    "for chain, (start, end, count) in segments.items():\n",
    "    print(f'Chain {chain}: residues {start}-{end} (count {count})')\n"
   ]
  },
  {
   "cell_type": "markdown",
   "id": "bfcfcf31",
   "metadata": {},
   "source": [
    "## 3. Optional: infer ECD using OPM orientation\n",
    "If available, supply an OPM-aligned PDB to refine the extracellular ranges automatically.\n"
   ]
  },
  {
   "cell_type": "code",
   "execution_count": null,
   "id": "12bbb446",
   "metadata": {},
   "outputs": [],
   "source": [
    "def contiguous_ranges(res_nums):\n",
    "    if not res_nums:\n",
    "        return []\n",
    "    res_nums = sorted(res_nums)\n",
    "    ranges = []\n",
    "    start = prev = res_nums[0]\n",
    "    for num in res_nums[1:]:\n",
    "        if num != prev + 1:\n",
    "            ranges.append((start, prev))\n",
    "            start = num\n",
    "        prev = num\n",
    "    ranges.append((start, prev))\n",
    "    return ranges\n",
    "\n",
    "if OPM_PATH and OPM_PATH.exists():\n",
    "    parser = PDBParser(QUIET=True)\n",
    "    opm_structure = parser.get_structure('OPM', str(OPM_PATH))\n",
    "    slab_min, slab_max = -MEMBRANE_HALF_THICKNESS, MEMBRANE_HALF_THICKNESS\n",
    "    extracellular = []\n",
    "    for model in opm_structure:\n",
    "        for chain in model:\n",
    "            for residue in chain:\n",
    "                if residue.id[0] != ' ':\n",
    "                    continue\n",
    "                if 'CA' not in residue:\n",
    "                    continue\n",
    "                z = residue['CA'].coord[2]\n",
    "                if z > slab_max:\n",
    "                    extracellular.append((chain.id, residue.id[1]))\n",
    "    if extracellular:\n",
    "        updated = []\n",
    "        for chain in protein_residues.keys():\n",
    "            res_nums = [res for cid, res in extracellular if cid == chain]\n",
    "            for start, end in contiguous_ranges(res_nums):\n",
    "                updated.append((chain, start, end))\n",
    "        if updated:\n",
    "            ECD_RANGES = updated\n",
    "            print('ECD_RANGES inferred from OPM:', ECD_RANGES)\n",
    "        else:\n",
    "            print('No extracellular residues detected above membrane slab; using defaults.')\n",
    "    else:\n",
    "        print('OPM file read but no residues above membrane slab.')\n",
    "else:\n",
    "    print('Skipping OPM inference (no OPM_PDB_NAME provided).')\n"
   ]
  },
  {
   "cell_type": "markdown",
   "id": "bc015645",
   "metadata": {},
   "source": [
    "## 4. Confirm extracellular ranges\n"
   ]
  },
  {
   "cell_type": "code",
   "execution_count": null,
   "id": "b072f37b",
   "metadata": {},
   "outputs": [],
   "source": [
    "print('Final ECD_RANGES:', ECD_RANGES)"
   ]
  },
  {
   "cell_type": "markdown",
   "id": "c1d45930",
   "metadata": {},
   "source": [
    "## 5. Trim the PDB and save\n"
   ]
  },
  {
   "cell_type": "code",
   "execution_count": null,
   "id": "346ff65e",
   "metadata": {},
   "outputs": [],
   "source": [
    "from Bio.PDB import Select\n",
    "\n",
    "class RangeSelect(Select):\n",
    "    def __init__(self, keep_ranges):\n",
    "        self.keep_ranges = keep_ranges\n",
    "\n",
    "    def accept_residue(self, residue):\n",
    "        if residue.id[0] != ' ':\n",
    "            return 0\n",
    "        chain_id = residue.parent.id\n",
    "        resseq = residue.id[1]\n",
    "        for cid, start, end in self.keep_ranges:\n",
    "            if chain_id == cid and start <= resseq <= end:\n",
    "                return 1\n",
    "        return 0\n",
    "\n",
    "parser = PDBParser(QUIET=True)\n",
    "structure = parser.get_structure(STRUCTURE_ID, str(PDB_PATH))\n",
    "selector = RangeSelect(ECD_RANGES)\n",
    "io = PDBIO()\n",
    "io.set_structure(structure)\n",
    "io.save(str(OUT_PATH), selector)\n",
    "print('Extracellular domain written to', OUT_PATH)\n"
   ]
  },
  {
   "cell_type": "markdown",
   "id": "5e22efe4",
   "metadata": {},
   "source": [
    "## 6. Sanity check\n"
   ]
  },
  {
   "cell_type": "code",
   "execution_count": null,
   "id": "c69485de",
   "metadata": {},
   "outputs": [],
   "source": [
    "structure_trimmed = parser.get_structure('ECD', str(OUT_PATH))\n",
    "residue_count = sum(1 for residue in structure_trimmed.get_residues() if residue.id[0] == ' ')\n",
    "print('Retained residues:', residue_count)\n"
   ]
  }
 ],
 "metadata": {
  "kernelspec": {
   "display_name": "Python 3",
   "language": "python",
   "name": "python3"
  },
  "language_info": {
   "name": "python",
   "version": "3.10"
  }
 },
 "nbformat": 4,
 "nbformat_minor": 5
}
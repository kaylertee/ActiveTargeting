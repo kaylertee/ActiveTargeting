{
 "cells": [
  {
   "cell_type": "markdown",
   "metadata": {},
   "source": [
    "# MutateBinder\n",
    "Refine an existing binder by sampling ProteinMPNN variants and repredicting with AlphaFold.\n"
   ]
  },
  {
   "cell_type": "markdown",
   "metadata": {},
   "source": [
    "## Prerequisites\n",
    "- Activate the BindCraft conda environment before running.\n",
    "- Update the paths below to point at your target and binder files.\n"
   ]
  },
  {
   "cell_type": "code",
   "execution_count": null,
   "id": "ccf26eb2",
   "metadata": {},
   "outputs": [],
   "source": [
    "from pathlib import Path\n",
    "import json\n",
    "import os\n",
    "import subprocess\n",
    "import shlex\n",
    "from Bio.PDB import PDBIO\n"
   ]
  },
  {
   "cell_type": "code",
   "execution_count": null,
   "id": "8e140ebe",
   "metadata": {},
   "outputs": [
    {
     "name": "stdout",
     "output_type": "stream",
     "text": [
      "Target PDB : /mnt/e/Code/BindCraft/InputTargets/5E56.pdb\n",
      "Binder PDB : /mnt/e/Code/BindCraft/InputTargets/8GAC.pdb\n",
      "Output dir : /mnt/e/Code/BindCraft/Results/MutateBinder_5E56_8GAC\n"
     ]
    }
   ],
   "source": [
    "BINDCRAFT_ROOT = Path(r'/mnt/e/Code/BindCraft').resolve()\n",
    "BINDCRAFT_SCRIPT = BINDCRAFT_ROOT / 'bindcraft' / 'bindcraft.py'\n",
    "\n",
    "TARGETS_DIR = (BINDCRAFT_ROOT / 'InputTargets').resolve()\n",
    "TARGET_PDB = TARGETS_DIR / '5E56.pdb'  # receptor/target structure\n",
    "BINDER_PDB = TARGETS_DIR / '8GAC.pdb'  # binder to mutate\n",
    "\n",
    "OUTPUT_DIR = (BINDCRAFT_ROOT / 'Results' / 'MutateBinder_5E56_8GAC').resolve()\n",
    "OUTPUT_DIR.mkdir(parents=True, exist_ok=True)\n",
    "MPNN_OUT = OUTPUT_DIR / 'MPNN'\n",
    "MPNN_OUT.mkdir(exist_ok=True)\n",
    "\n",
    "MAX_MPNN_VARIANTS = 5\n",
    "print('Target PDB :', TARGET_PDB)\n",
    "print('Binder PDB :', BINDER_PDB)\n",
    "print('Output dir :', OUTPUT_DIR)\n"
   ]
  },
  {
   "cell_type": "markdown",
   "id": "6be063f3",
   "metadata": {},
   "source": [
    "## Generate ProteinMPNN variants\n"
   ]
  },
  {
   "cell_type": "code",
   "execution_count": null,
   "id": "844d944a",
   "metadata": {},
   "outputs": [
    {
     "name": "stdout",
     "output_type": "stream",
     "text": [
      "Wrote /mnt/e/Code/BindCraft/Results/MutateBinder_5E56_8GAC/MPNN/binder_variant_1.fasta\n",
      "Wrote /mnt/e/Code/BindCraft/Results/MutateBinder_5E56_8GAC/binder_variant_1.pdb\n",
      "Wrote /mnt/e/Code/BindCraft/Results/MutateBinder_5E56_8GAC/MPNN/binder_variant_2.fasta\n",
      "Wrote /mnt/e/Code/BindCraft/Results/MutateBinder_5E56_8GAC/binder_variant_2.pdb\n",
      "Wrote /mnt/e/Code/BindCraft/Results/MutateBinder_5E56_8GAC/MPNN/binder_variant_3.fasta\n",
      "Wrote /mnt/e/Code/BindCraft/Results/MutateBinder_5E56_8GAC/binder_variant_3.pdb\n",
      "Wrote /mnt/e/Code/BindCraft/Results/MutateBinder_5E56_8GAC/MPNN/binder_variant_4.fasta\n",
      "Wrote /mnt/e/Code/BindCraft/Results/MutateBinder_5E56_8GAC/binder_variant_4.pdb\n",
      "Wrote /mnt/e/Code/BindCraft/Results/MutateBinder_5E56_8GAC/MPNN/binder_variant_5.fasta\n",
      "Wrote /mnt/e/Code/BindCraft/Results/MutateBinder_5E56_8GAC/binder_variant_5.pdb\n"
     ]
    }
   ],
   "source": [
    "from colabdesign.mpnn import mk_mpnn_model\n",
    "from Bio.PDB import PDBParser, PDBIO\n",
    "\n",
    "AA3 = {\n",
    "    'A': 'ALA','C': 'CYS','D': 'ASP','E': 'GLU','F': 'PHE','G': 'GLY','H': 'HIS','I': 'ILE','K': 'LYS','L': 'LEU',\n",
    "    'M': 'MET','N': 'ASN','P': 'PRO','Q': 'GLN','R': 'ARG','S': 'SER','T': 'THR','V': 'VAL','W': 'TRP','Y': 'TYR'\n",
    "}\n",
    "\n",
    "if not TARGET_PDB.exists() or not BINDER_PDB.exists():\n",
    "    raise FileNotFoundError('Check TARGET_PDB and BINDER_PDB paths.')\n",
    "\n",
    "parser = PDBParser(QUIET=True)\n",
    "binder_input_path = BINDER_PDB\n",
    "\n",
    "if TARGET_PDB.resolve() == BINDER_PDB.resolve():\n",
    "    full_structure = parser.get_structure('FULL', str(BINDER_PDB))\n",
    "    protein_chains = [chain for chain in full_structure.get_chains() if len([res for res in chain if res.id[0] == ' ']) > 0]\n",
    "    if len(protein_chains) < 2:\n",
    "        raise ValueError('Binder PDB contains only one protein chain. Please supply a binder-only file.')\n",
    "    binder_chain_id = protein_chains[-1].id or 'A'\n",
    "    for chain in protein_chains[:-1]:\n",
    "        for model in full_structure:\n",
    "            if chain.id in model.child_dict:\n",
    "                model.detach_child(chain.id)\n",
    "    binder_only_path = BINDER_PDB.parent / (BINDER_PDB.stem + '_binder_only.pdb')\n",
    "    io = PDBIO()\n",
    "    io.set_structure(full_structure)\n",
    "    io.save(str(binder_only_path))\n",
    "    print(f'Extracted binder chain {binder_chain_id} to {binder_only_path}')\n",
    "    binder_input_path = binder_only_path\n",
    "\n",
    "binder_structure = parser.get_structure('BINDER', str(binder_input_path))\n",
    "binder_chains = [chain for chain in binder_structure.get_chains() if len([res for res in chain if res.id[0] == ' ']) > 0]\n",
    "if not binder_chains:\n",
    "    raise ValueError('No protein chains detected in binder PDB.')\n",
    "chain_ids = [chain.id or 'A' for chain in binder_chains]\n",
    "chain_spec = ','.join(chain_ids)\n",
    "\n",
    "mpnn_model = mk_mpnn_model(backbone_noise=0.0, weights='soluble')\n",
    "mpnn_model.prep_inputs(pdb_filename=str(binder_input_path), chain=chain_spec, fix_pos=None)\n",
    "designs = mpnn_model.sample(num=MAX_MPNN_VARIANTS, temperature=0.2)\n",
    "seq_entries = designs['seq'] if isinstance(designs, dict) and 'seq' in designs else designs\n",
    "try:\n",
    "    seq_entries = seq_entries.tolist()\n",
    "except AttributeError:\n",
    "    pass\n",
    "variant_fastas = []\n",
    "for idx, entry in enumerate(seq_entries, 1):\n",
    "    if isinstance(entry, dict):\n",
    "        seq = ''.join(entry.get(chain_id, '') for chain_id in chain_ids)\n",
    "    elif isinstance(entry, (list, tuple)):\n",
    "        seq = ''.join(entry)\n",
    "    else:\n",
    "        seq = str(entry)\n",
    "    fasta_path = MPNN_OUT / f'binder_variant_{idx}.fasta'\n",
    "    with fasta_path.open('w') as fh:\n",
    "        fh.write(f'>binder_variant_{idx}\\n{seq}\\n')\n",
    "    variant_fastas.append(fasta_path)\n",
    "    print('Wrote', fasta_path)\n",
    "\n",
    "    structure_copy = parser.get_structure(f'BINDER_{idx}', str(binder_input_path))\n",
    "    residue_blocks = []\n",
    "    for chain in structure_copy.get_chains():\n",
    "        if chain.id in chain_ids:\n",
    "            residue_blocks.append((chain, [res for res in chain if res.id[0] == ' ']))\n",
    "    total_residues = sum(len(block[1]) for block in residue_blocks)\n",
    "    if total_residues != len(seq):\n",
    "        print(f'Skipping binder_variant_{idx}: sequence length {len(seq)} does not match backbone residues {total_residues}.')\n",
    "        continue\n",
    "    seq_pos = 0\n",
    "    for chain, residues in residue_blocks:\n",
    "        for res in residues:\n",
    "            aa = seq[seq_pos]\n",
    "            if aa not in AA3:\n",
    "                raise ValueError(f'Unsupported amino acid {aa} encountered.')\n",
    "            res.resname = AA3[aa]\n",
    "            seq_pos += 1\n",
    "    pdb_path = OUTPUT_DIR / f'binder_variant_{idx}.pdb'\n",
    "    io = PDBIO()\n",
    "    io.set_structure(structure_copy)\n",
    "    io.save(str(pdb_path))\n",
    "    print('Wrote', pdb_path)\n"
   ]
  }
 ],
 "metadata": {
  "kernelspec": {
   "display_name": "Python 3",
   "language": "python",
   "name": "python3"
  }
 },
 "nbformat": 4,
 "nbformat_minor": 5
}

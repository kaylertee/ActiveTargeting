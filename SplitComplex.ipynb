{
  "cells": [
    {
      "cell_type": "markdown",
      "metadata": {},
      "source": [
        "# SplitComplex: Binder/Target PDB Splitter\n",
        "\n",
        "Use this notebook inside the BindCraft environment to split a bound complex into separate binder and target PDB files. Configure the chains and output names below, then run the final cell to create clean component structures under the specified output directory.\n"
      ]
    },
    {
      "cell_type": "code",
      "execution_count": 1,
      "id": "841c7708",
      "metadata": {},
      "outputs": [],
      "source": [
        "from pathlib import Path\n",
        "from typing import Iterable, Dict, List\n",
        "\n",
        "BINDCRAFT_ROOT = Path(r'/mnt/e/Code/BindCraft').resolve()\n",
        "INPUT_DIR = (BINDCRAFT_ROOT / 'InputTargets').resolve()\n",
        "OUTPUT_ROOT = (BINDCRAFT_ROOT / 'Results' / 'SplitComplex').resolve()\n",
        "OUTPUT_ROOT.mkdir(parents=True, exist_ok=True)\n"
      ]
    },
    {
      "cell_type": "code",
      "execution_count": 2,
      "id": "e1361091",
      "metadata": {},
      "outputs": [],
      "source": [
        "# --- User configuration ---\n",
        "COMPLEX_PDB = INPUT_DIR / '1OP9.pdb'  # Path to bound complex\n",
        "OUTPUT_SUBDIR = OUTPUT_ROOT / 'SplitComplex'  # Where split files will be written\n",
        "\n",
        "# Specify chains belonging to each component\n",
        "BINDER_CHAINS = ['A']  \n",
        "TARGET_CHAINS = ['B']  \n",
        "\n",
        "# Names for the output files (without extension)\n",
        "BINDER_NAME = 'HL6_camel_VHH_fragment'\n",
        "TARGET_NAME = 'HumanLysozyme'\n"
      ]
    },
    {
      "cell_type": "code",
      "execution_count": 3,
      "id": "1607864e",
      "metadata": {},
      "outputs": [],
      "source": [
        "def _collect_available_chains(pdb_lines: List[str]) -> List[str]:\n",
        "    chains = []\n",
        "    seen = set()\n",
        "    for line in pdb_lines:\n",
        "        if line.startswith(('ATOM', 'HETATM')):\n",
        "            chain_id = line[21] if len(line) > 21 else ' ' \n",
        "            chain_id = chain_id if chain_id.strip() else ' ' \n",
        "            if chain_id not in seen:\n",
        "                seen.add(chain_id)\n",
        "                chains.append(chain_id)\n",
        "    return chains\n",
        "\n",
        "\n",
        "def _filter_pdb_lines(pdb_lines: List[str], chains: Iterable[str]) -> List[str]:\n",
        "    selected = set(chains)\n",
        "    body = []\n",
        "    for line in pdb_lines:\n",
        "        rec = line[:6]\n",
        "        if rec.startswith(('ATOM', 'HETATM', 'ANISOU', 'TER')):\n",
        "            chain_id = line[21] if len(line) > 21 else ' ' \n",
        "            chain_id = chain_id if chain_id.strip() else ' ' \n",
        "            if chain_id in selected:\n",
        "                body.append(line)\n",
        "        elif rec.startswith('MODEL') or rec.startswith('ENDMDL'):\n",
        "            # ignore MODEL records, assume single model output\n",
        "            continue\n",
        "    return body\n",
        "\n",
        "\n",
        "def split_complex(complex_path: Path, binder_chains: Iterable[str], target_chains: Iterable[str], output_dir: Path, binder_name: str, target_name: str) -> Dict[str, Path]:\n",
        "    pdb_lines = complex_path.read_text().splitlines()\n",
        "    pdb_lines = [line + '\\n' for line in pdb_lines]\n",
        "\n",
        "    available = _collect_available_chains(pdb_lines)\n",
        "    missing_binder = sorted(set(binder_chains) - set(available))\n",
        "    missing_target = sorted(set(target_chains) - set(available))\n",
        "    if missing_binder or missing_target:\n",
        "        raise ValueError(f'Missing chains. Binder missing: {missing_binder}, Target missing: {missing_target}')\n",
        "\n",
        "    output_dir.mkdir(parents=True, exist_ok=True)\n",
        "\n",
        "    header = []\n",
        "    for line in pdb_lines:\n",
        "        if line.startswith(('ATOM', 'HETATM', 'MODEL')):\n",
        "            break\n",
        "        header.append(line)\n",
        "\n",
        "    def _write_component(filename: Path, chains: Iterable[str]):\n",
        "        body = _filter_pdb_lines(pdb_lines, chains)\n",
        "        with filename.open('w') as handle:\n",
        "            handle.writelines(header)\n",
        "            handle.writelines(body)\n",
        "            handle.write('END\\n')\n",
        "\n",
        "    binder_path = output_dir / f'{binder_name}.pdb'\n",
        "    _write_component(binder_path, binder_chains)\n",
        "\n",
        "    target_path = output_dir / f'{target_name}.pdb'\n",
        "    _write_component(target_path, target_chains)\n",
        "\n",
        "    return {\n",
        "        'binder_path': binder_path,\n",
        "        'target_path': target_path,\n",
        "        'available_chains': available,\n",
        "    }\n"
      ]
    },
    {
      "cell_type": "code",
      "execution_count": 4,
      "id": "44bbf414",
      "metadata": {},
      "outputs": [
        {
          "name": "stdout",
          "output_type": "stream",
          "text": [
            "Complex: /mnt/e/Code/BindCraft/InputTargets/1OP9.pdb\n",
            "Available chains: A, B\n",
            "Binder chains (HL6_camel_VHH_fragment): A -> /mnt/e/Code/BindCraft/Results/SplitComplex/SplitComplex/HL6_camel_VHH_fragment.pdb\n",
            "Target chains (HumanLysozyme): B -> /mnt/e/Code/BindCraft/Results/SplitComplex/SplitComplex/HumanLysozyme.pdb\n"
          ]
        }
      ],
      "source": [
        "result = split_complex(\n",
        "    complex_path=COMPLEX_PDB,\n",
        "    binder_chains=BINDER_CHAINS,\n",
        "    target_chains=TARGET_CHAINS,\n",
        "    output_dir=OUTPUT_SUBDIR,\n",
        "    binder_name=BINDER_NAME,\n",
        "    target_name=TARGET_NAME,\n",
        ")\n",
        "\n",
        "print(f'Complex: {COMPLEX_PDB}')\n",
        "print('Available chains: ' + ', '.join(result['available_chains']))\n",
        "print(f\"Binder chains ({BINDER_NAME}): {', '.join(BINDER_CHAINS)} -> {result['binder_path']}\")\n",
        "print(f\"Target chains ({TARGET_NAME}): {', '.join(TARGET_CHAINS)} -> {result['target_path']}\")\n"
      ]
    }
  ],
  "metadata": {
    "kernelspec": {
      "display_name": "BindCraft",
      "language": "python",
      "name": "python3"
    },
    "language_info": {
      "codemirror_mode": {
        "name": "ipython",
        "version": 3
      },
      "file_extension": ".py",
      "mimetype": "text/x-python",
      "name": "python",
      "nbconvert_exporter": "python",
      "pygments_lexer": "ipython3",
      "version": "3.10.18"
    }
  },
  "nbformat": 4,
  "nbformat_minor": 5
}

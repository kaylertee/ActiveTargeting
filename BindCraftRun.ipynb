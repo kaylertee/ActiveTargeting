{
 "cells": [
  {
   "cell_type": "markdown",
   "metadata": {},
   "source": [
    "# BindCraftRun: Local Binder Design Starter\n",
    "Use this notebook to configure and launch BindCraft locally. It assumes your input structures live in `../InputTargets/` and that results should be written under `../Results/`."
   ]
  },
  {
   "cell_type": "markdown",
   "metadata": {},
   "source": [
    "## Prerequisites\n",
    "- BindCraft repository cloned and `install_bindcraft.sh` completed.\n",
    "- Notebook running inside the `BindCraft` conda environment created by the installer.\n",
    "- AlphaFold2 weights downloaded during installation (default under `params/`).\n",
    "- CUDA-compatible NVIDIA GPU with drivers matching the selected CUDA runtime.\n",
    "- Target PDB files available in `../InputTargets/` (adjust the variables below if you store them elsewhere)."
   ]
  },
  {
   "cell_type": "code",
   "execution_count": 12,
   "id": "61e4da97",
   "metadata": {},
   "outputs": [
    {
     "name": "stdout",
     "output_type": "stream",
     "text": [
      "BindCraft root: /mnt/e/Code/BindCraft\n",
      "Active conda env: BindCraft\n"
     ]
    }
   ],
   "source": [
    "from pathlib import Path\n",
    "import json\n",
    "import subprocess\n",
    "import shlex\n",
    "import os\n",
    "\n",
    "BINDCRAFT_ROOT = Path(r'/mnt/e/Code/BindCraft').resolve()\n",
    "BINDCRAFT_SCRIPT = BINDCRAFT_ROOT / 'bindcraft' / 'bindcraft.py'\n",
    "\n",
    "os.environ['XLA_PYTHON_CLIENT_PREALLOCATE'] = 'false'\n",
    "\n",
    "print(f\"BindCraft root: {BINDCRAFT_ROOT}\")\n",
    "if 'CONDA_DEFAULT_ENV' in os.environ:\n",
    "    print(f\"Active conda env: {os.environ['CONDA_DEFAULT_ENV']}\")\n",
    "else:\n",
    "    print('CONDA_DEFAULT_ENV not set; confirm you activated the BindCraft environment.')\n"
   ]
  },
  {
   "cell_type": "code",
   "execution_count": 13,
   "id": "ba975d0f",
   "metadata": {},
   "outputs": [
    {
     "name": "stdout",
     "output_type": "stream",
     "text": [
      "Thu Oct 16 15:05:41 2025       \n",
      "+-----------------------------------------------------------------------------------------+\n",
      "| NVIDIA-SMI 565.77.01              Driver Version: 566.36         CUDA Version: 12.7     |\n",
      "|-----------------------------------------+------------------------+----------------------+\n",
      "| GPU  Name                 Persistence-M | Bus-Id          Disp.A | Volatile Uncorr. ECC |\n",
      "| Fan  Temp   Perf          Pwr:Usage/Cap |           Memory-Usage | GPU-Util  Compute M. |\n",
      "|                                         |                        |               MIG M. |\n",
      "|=========================================+========================+======================|\n",
      "|   0  NVIDIA GeForce RTX 4070 Ti     On  |   00000000:01:00.0  On |                  N/A |\n",
      "| 72%   50C    P2             81W /  285W |   10861MiB /  12282MiB |     39%      Default |\n",
      "|                                         |                        |                  N/A |\n",
      "+-----------------------------------------+------------------------+----------------------+\n",
      "                                                                                         \n",
      "+-----------------------------------------------------------------------------------------+\n",
      "| Processes:                                                                              |\n",
      "|  GPU   GI   CI        PID   Type   Process name                              GPU Memory |\n",
      "|        ID   ID                                                               Usage      |\n",
      "|=========================================================================================|\n",
      "|    0   N/A  N/A        26      G   /Xwayland                                   N/A      |\n",
      "|    0   N/A  N/A      7863      C   /python3.10                                 N/A      |\n",
      "+-----------------------------------------------------------------------------------------+\n"
     ]
    }
   ],
   "source": [
    "# Confirm the GPU that BindCraft will see\n",
    "try:\n",
    "    subprocess.run(['nvidia-smi'], check=True)\n",
    "except FileNotFoundError:\n",
    "    print('nvidia-smi not found. Ensure the NVIDIA drivers are installed and visible in this environment.')\n",
    "except subprocess.CalledProcessError as exc:\n",
    "    print('nvidia-smi failed with exit code', exc.returncode)\n"
   ]
  },
  {
   "cell_type": "markdown",
   "id": "57b8d899",
   "metadata": {},
   "source": [
    "## Configure target and output paths\n",
    "Update the variables below to point at your desired settings file, target PDB, and output directory. The defaults use the example `8Z8L.pdb` located in `../InputTargets/`."
   ]
  },
  {
   "cell_type": "code",
   "execution_count": 14,
   "id": "da06ffe9",
   "metadata": {},
   "outputs": [
    {
     "name": "stdout",
     "output_type": "stream",
     "text": [
      "Design name       : P51679_quick\n",
      "Settings template : /mnt/e/Code/BindCraft/bindcraft/settings_target/P51679_template.json\n",
      "Filters file      : /mnt/e/Code/BindCraft/bindcraft/settings_filters/peptide_relaxed_filters.json\n",
      "Advanced file     : /mnt/e/Code/BindCraft/bindcraft/settings_advanced/P51679_quick.json\n",
      "Targets directory : /mnt/e/Code/BindCraft/InputTargets\n",
      "Target PDB        : /mnt/e/Code/BindCraft/InputTargets/P51679.pdb\n",
      "Target chain      : A\n",
      "Hotspot residues  : None\n",
      "Design output dir : /mnt/e/Code/BindCraft/Results/P51679_quick\n"
     ]
    }
   ],
   "source": [
    "# Core project defaults for a quick P51679 run\n",
    "BINDCRAFT_ROOT = Path(r'/mnt/e/Code/BindCraft').resolve()\n",
    "BINDCRAFT_SCRIPT = BINDCRAFT_ROOT / 'bindcraft' / 'bindcraft.py'\n",
    "SETTINGS_DIR = BINDCRAFT_ROOT / 'bindcraft' / 'settings_target'\n",
    "FILTERS_DIR = BINDCRAFT_ROOT / 'bindcraft' / 'settings_filters'\n",
    "ADVANCED_DIR = BINDCRAFT_ROOT / 'bindcraft' / 'settings_advanced'\n",
    "\n",
    "DESIGN_NAME = 'P51679_quick'\n",
    "SETTINGS_TEMPLATE = SETTINGS_DIR / 'P51679_template.json'\n",
    "FILTERS_JSON = FILTERS_DIR / 'peptide_relaxed_filters.json'\n",
    "ADVANCED_JSON = ADVANCED_DIR / 'P51679_quick.json'\n",
    "\n",
    "TARGETS_DIR = (BINDCRAFT_ROOT / 'InputTargets').resolve()\n",
    "TARGET_PDB_NAME = 'P51679.pdb'\n",
    "TARGET_CHAIN = 'A'\n",
    "HOTSPOT_RESIDUES = None\n",
    "TARGET_PDB = (TARGETS_DIR / TARGET_PDB_NAME).resolve()\n",
    "if not TARGET_PDB.exists():\n",
    "    raise FileNotFoundError(f'Target PDB {TARGET_PDB} not found. Update TARGET_PDB_NAME or TARGETS_DIR.')\n",
    "\n",
    "RESULTS_BASE = (BINDCRAFT_ROOT / 'Results').resolve()\n",
    "RESULTS_BASE.mkdir(parents=True, exist_ok=True)\n",
    "DESIGN_OUTPUT = RESULTS_BASE / DESIGN_NAME\n",
    "DESIGN_OUTPUT.mkdir(parents=True, exist_ok=True)\n",
    "\n",
    "print(f'Design name       : {DESIGN_NAME}')\n",
    "print(f'Settings template : {SETTINGS_TEMPLATE}')\n",
    "print(f'Filters file      : {FILTERS_JSON}')\n",
    "print(f'Advanced file     : {ADVANCED_JSON}')\n",
    "print(f'Targets directory : {TARGETS_DIR}')\n",
    "print(f'Target PDB        : {TARGET_PDB}')\n",
    "print(f'Target chain      : {TARGET_CHAIN}')\n",
    "print(f'Hotspot residues  : {HOTSPOT_RESIDUES}')\n",
    "print(f'Design output dir : {DESIGN_OUTPUT}')\n"
   ]
  },
  {
   "cell_type": "markdown",
   "id": "3986872d",
   "metadata": {},
   "source": [
    "### Create or reuse a dedicated settings file\n",
    "Set `CREATE_SETTINGS_COPY = True` the first time you run for a new project. The template (`settings.json`) will be copied to `settings_target/<design name>.json`, with `design_path`, `binder_name`, and `starting_pdb` updated to match your local folders. If the file already exists it will be reused unless you enable `OVERWRITE_SETTINGS`."
   ]
  },
  {
   "cell_type": "code",
   "execution_count": 15,
   "id": "6b2d1455",
   "metadata": {},
   "outputs": [
    {
     "name": "stdout",
     "output_type": "stream",
     "text": [
      "/mnt/e/Code/BindCraft/bindcraft/settings_target/P51679_template.json already exists. Reusing it; set OVERWRITE_TEMPLATE = True to regenerate.\n",
      "Using template file: /mnt/e/Code/BindCraft/bindcraft/settings_target/P51679_template.json\n",
      "/mnt/e/Code/BindCraft/bindcraft/settings_target/P51679_quick.json already exists. Reusing it; set OVERWRITE_SETTINGS = True to regenerate.\n",
      "Using settings file: /mnt/e/Code/BindCraft/bindcraft/settings_target/P51679_quick.json\n",
      "             design_path: /mnt/e/Code/BindCraft/Results/P51679_quick\n",
      "             binder_name: P51679_quick\n",
      "            starting_pdb: /mnt/e/Code/BindCraft/InputTargets/P51679.pdb\n",
      "                  chains: A\n",
      " target_hotspot_residues: None\n",
      "                 lengths: [16, 32]\n",
      " number_of_final_designs: 1\n"
     ]
    }
   ],
   "source": [
    "CREATE_TEMPLATE = True\n",
    "OVERWRITE_TEMPLATE = False\n",
    "TEMPLATE_PATH = SETTINGS_DIR / 'P51679_template.json'\n",
    "\n",
    "if CREATE_TEMPLATE:\n",
    "    template_cfg = {\n",
    "        'design_path': str(DESIGN_OUTPUT),\n",
    "        'binder_name': 'P51679_quick',\n",
    "        'starting_pdb': str(TARGET_PDB),\n",
    "        'chains': TARGET_CHAIN,\n",
    "        'target_hotspot_residues': HOTSPOT_RESIDUES,\n",
    "        'lengths': [16, 32],\n",
    "        'number_of_final_designs': 1\n",
    "    }\n",
    "    if TEMPLATE_PATH.exists() and not OVERWRITE_TEMPLATE:\n",
    "        print(f'{TEMPLATE_PATH} already exists. Reusing it; set OVERWRITE_TEMPLATE = True to regenerate.')\n",
    "    else:\n",
    "        with TEMPLATE_PATH.open('w') as fh:\n",
    "            json.dump(template_cfg, fh, indent=2)\n",
    "        print(f'Wrote {TEMPLATE_PATH}')\n",
    "else:\n",
    "    if not TEMPLATE_PATH.exists():\n",
    "        raise FileNotFoundError(f'Template {TEMPLATE_PATH} missing. Run with CREATE_TEMPLATE = True first.')\n",
    "\n",
    "SETTINGS_JSON = TEMPLATE_PATH\n",
    "CREATE_SETTINGS_COPY = True\n",
    "OVERWRITE_SETTINGS = False\n",
    "PERSONAL_SETTINGS_PATH = SETTINGS_DIR / f'{DESIGN_NAME}.json'\n",
    "\n",
    "print(f'Using template file: {SETTINGS_JSON}')\n",
    "\n",
    "if CREATE_SETTINGS_COPY:\n",
    "    with SETTINGS_JSON.open() as fh:\n",
    "        target_cfg = json.load(fh)\n",
    "    target_cfg['design_path'] = str(DESIGN_OUTPUT)\n",
    "    target_cfg['binder_name'] = DESIGN_NAME\n",
    "    target_cfg['starting_pdb'] = str(TARGET_PDB)\n",
    "    target_cfg['chains'] = TARGET_CHAIN\n",
    "    target_cfg['target_hotspot_residues'] = HOTSPOT_RESIDUES\n",
    "    target_cfg['lengths'] = [16, 32]\n",
    "    target_cfg['number_of_final_designs'] = 1\n",
    "\n",
    "    if PERSONAL_SETTINGS_PATH.exists() and not OVERWRITE_SETTINGS:\n",
    "        print(f'{PERSONAL_SETTINGS_PATH} already exists. Reusing it; set OVERWRITE_SETTINGS = True to regenerate.')\n",
    "    else:\n",
    "        with PERSONAL_SETTINGS_PATH.open('w') as fh:\n",
    "            json.dump(target_cfg, fh, indent=2)\n",
    "        print(f'Wrote {PERSONAL_SETTINGS_PATH}')\n",
    "\n",
    "    RUN_SETTINGS = PERSONAL_SETTINGS_PATH\n",
    "else:\n",
    "    RUN_SETTINGS = SETTINGS_JSON\n",
    "    print('Using the template directly; ensure paths are valid for your environment.')\n",
    "\n",
    "with RUN_SETTINGS.open() as fh:\n",
    "    preview_cfg = json.load(fh)\n",
    "\n",
    "print(f'Using settings file: {RUN_SETTINGS}')\n",
    "preview_keys = ['design_path','binder_name','starting_pdb','chains','target_hotspot_residues','lengths','number_of_final_designs']\n",
    "for key in preview_cfg:\n",
    "    if key in preview_cfg:\n",
    "        print(f'{key:>24}: {preview_cfg[key]}')\n"
   ]
  },
  {
   "cell_type": "markdown",
   "id": "785ac1c0",
   "metadata": {},
   "source": [
    "### Reduce plot and animation outputs\n",
    "Set `CREATE_ADVANCED_COPY = True` to write a project-specific advanced settings file that disables high-volume plot/animation outputs while keeping archives zipped. This helps keep the design directory smaller."
   ]
  },
  {
   "cell_type": "code",
   "execution_count": 16,
   "id": "32b4480b",
   "metadata": {},
   "outputs": [
    {
     "name": "stdout",
     "output_type": "stream",
     "text": [
      "Using existing advanced settings file without overrides.\n",
      "Advanced settings file in use: /mnt/e/Code/BindCraft/bindcraft/settings_advanced/P51679_quick.json\n",
      "                 enable_mpnn: True\n",
      "         use_multimer_design: False\n",
      "      design_models_override: [0]\n",
      "               sample_models: False\n",
      "         num_recycles_design: 1\n",
      "     num_recycles_validation: 1\n",
      "             soft_iterations: 28\n",
      "        temporary_iterations: 16\n",
      "             hard_iterations: 2\n",
      "           greedy_iterations: 3\n",
      "            max_trajectories: 5\n",
      "            start_monitoring: 3\n"
     ]
    }
   ],
   "source": [
    "CREATE_ADVANCED_COPY = False\n",
    "OVERWRITE_ADVANCED = False\n",
    "ADVANCED_COPY_PATH = ADVANCED_DIR / 'P51679_quick.json'\n",
    "\n",
    "if CREATE_ADVANCED_COPY:\n",
    "    with ADVANCED_JSON.open() as fh:\n",
    "        advanced_cfg = json.load(fh)\n",
    "    advanced_cfg.update({})\n",
    "    if ADVANCED_COPY_PATH.exists() and not OVERWRITE_ADVANCED:\n",
    "        print(f'{ADVANCED_COPY_PATH} already exists. Reusing it; set OVERWRITE_ADVANCED = True to regenerate.')\n",
    "    else:\n",
    "        with ADVANCED_COPY_PATH.open('w') as fh:\n",
    "            json.dump(advanced_cfg, fh, indent=2)\n",
    "        print(f'Wrote {ADVANCED_COPY_PATH}')\n",
    "    ADVANCED_JSON = ADVANCED_COPY_PATH\n",
    "else:\n",
    "    with ADVANCED_JSON.open() as fh:\n",
    "        advanced_cfg = json.load(fh)\n",
    "    print('Using existing advanced settings file without overrides.')\n",
    "\n",
    "print('Advanced settings file in use:', ADVANCED_JSON)\n",
    "summary_keys = ['enable_mpnn','use_multimer_design','design_models_override','sample_models','num_recycles_design','num_recycles_validation','soft_iterations','temporary_iterations','hard_iterations','greedy_iterations','max_trajectories','start_monitoring']\n",
    "for key in summary_keys:\n",
    "    value = advanced_cfg.get(key, '<not present>')\n",
    "    print(f'{key:>28}: {value}')\n"
   ]
  },
  {
   "cell_type": "code",
   "execution_count": 17,
   "id": "a3df3ca7",
   "metadata": {},
   "outputs": [],
   "source": [
    "#Use a non-Qt backend. Switch matplotlib to Agg before importing anything that touches Qt:\n",
    "\n",
    "\n",
    "import matplotlib\n",
    "matplotlib.use(\"Agg\")  # do this right after launching the kernel\n"
   ]
  },
  {
   "cell_type": "markdown",
   "id": "3ec7c4f3",
   "metadata": {},
   "source": [
    "## Launch BindCraft\n",
    "Set `LAUNCH_RUN = True` when you are ready. The command runs in blocking mode; expect long runtimes for realistic designs. Interrupt the cell if you need to stop the run."
   ]
  },
  {
   "cell_type": "code",
   "execution_count": null,
   "id": "303b52a2",
   "metadata": {},
   "outputs": [
    {
     "name": "stdout",
     "output_type": "stream",
     "text": [
      "Command to run:\n",
      "python -u /mnt/e/Code/BindCraft/bindcraft/bindcraft.py --settings /mnt/e/Code/BindCraft/bindcraft/settings_target/P51679_quick.json --filters /mnt/e/Code/BindCraft/bindcraft/settings_filters/peptide_relaxed_filters.json --advanced /mnt/e/Code/BindCraft/bindcraft/settings_advanced/P51679_quick.json\n",
      "LD_LIBRARY_PATH: /root/miniconda3/envs/BindCraft/lib\n",
      "Available GPUs:\n",
      "NVIDIA GeForce RTX 4070 Ti1: gpu\n",
      "┌───────────────────────────────────────────────────────────────────────────────┐\n",
      "│                                  PyRosetta-4                                  │\n",
      "│               Created in JHU by Sergey Lyskov and PyRosetta Team              │\n",
      "│               (C) Copyright Rosetta Commons Member Institutions               │\n",
      "│                                                                               │\n",
      "│ NOTE: USE OF PyRosetta FOR COMMERCIAL PURPOSES REQUIRES PURCHASE OF A LICENSE │\n",
      "│          See LICENSE.PyRosetta.md or email license@uw.edu for details         │\n",
      "└───────────────────────────────────────────────────────────────────────────────┘\n",
      "PyRosetta-4 2025 [Rosetta PyRosetta4.conda.ubuntu.cxx11thread.serialization.Ubuntu.python310.Release 2025.41+release.de3cc17d509259e29147a2ed8f2a726d644e7e34 2025-10-06T16:25:46] retrieved from: http://www.pyrosetta.org\n",
      "Running binder design for target P51679_quick\n",
      "Design settings used: P51679_quick\n",
      "Filtering designs based on peptide_relaxed_filters\n",
      "Starting trajectory: P51679_quick_l25_s108090\n",
      "Stage 1: Test Logits\n"
     ]
    }
   ],
   "source": [
    "LAUNCH_RUN = True\n",
    "additional_args = []\n",
    "\n",
    "env = os.environ.copy()\n",
    "conda_prefix = env.get('CONDA_PREFIX')\n",
    "if not conda_prefix:\n",
    "    raise RuntimeError('Activate the BindCraft environment before launching.')\n",
    "existing_ld = env.get('LD_LIBRARY_PATH', '')\n",
    "if existing_ld:\n",
    "    env['LD_LIBRARY_PATH'] = '{}/lib:{}'.format(conda_prefix, existing_ld)\n",
    "else:\n",
    "    env['LD_LIBRARY_PATH'] = '{}/lib'.format(conda_prefix)\n",
    "\n",
    "cmd = [\n",
    "    'python', '-u', str(BINDCRAFT_SCRIPT),\n",
    "    '--settings', str(RUN_SETTINGS),\n",
    "    '--filters', str(FILTERS_JSON),\n",
    "    '--advanced', str(ADVANCED_JSON),\n",
    "] + additional_args\n",
    "\n",
    "print('Command to run:')\n",
    "print(' '.join(shlex.quote(part) for part in cmd))\n",
    "print('LD_LIBRARY_PATH:', env['LD_LIBRARY_PATH'])\n",
    "\n",
    "if LAUNCH_RUN:\n",
    "    result = subprocess.run(cmd, cwd=BINDCRAFT_ROOT, env=env, check=False)\n",
    "    print(f'BindCraft finished with exit code {result.returncode}')\n",
    "else:\n",
    "    print('Set LAUNCH_RUN = True to start the design run.')\n"
   ]
  },
  {
   "cell_type": "markdown",
   "id": "5228916e",
   "metadata": {},
   "source": [
    "## Inspect recent outputs\n",
    "Use the helper below to list the most recently modified files under your design directory once a run has started producing results."
   ]
  },
  {
   "cell_type": "code",
   "execution_count": null,
   "id": "4544ead5",
   "metadata": {},
   "outputs": [
    {
     "name": "stdout",
     "output_type": "stream",
     "text": [
      "No files in the design output directory yet.\n"
     ]
    }
   ],
   "source": [
    "from datetime import datetime\n",
    "\n",
    "if DESIGN_OUTPUT.exists():\n",
    "    tracked_files = sorted(\n",
    "        (path for path in DESIGN_OUTPUT.glob('**/*') if path.is_file()),\n",
    "        key=lambda p: p.stat().st_mtime,\n",
    "        reverse=True,\n",
    "    )[:10]\n",
    "    if tracked_files:\n",
    "        print('Latest files:')\n",
    "        for path in tracked_files:\n",
    "            timestamp = datetime.fromtimestamp(path.stat().st_mtime).isoformat(sep=' ', timespec='seconds')\n",
    "            print(f'{timestamp} :: {path.relative_to(DESIGN_OUTPUT)}')\n",
    "    else:\n",
    "        print('No files in the design output directory yet.')\n",
    "else:\n",
    "    print('Design output directory does not exist. Run the configuration cells first.')\n"
   ]
  }
 ],
 "metadata": {
  "kernelspec": {
   "display_name": "Python 3",
   "language": "python",
   "name": "python3"
  },
  "language_info": {
   "codemirror_mode": {
    "name": "ipython",
    "version": 3
   },
   "file_extension": ".py",
   "mimetype": "text/x-python",
   "name": "python",
   "nbconvert_exporter": "python",
   "pygments_lexer": "ipython3",
   "version": "3.10"
  }
 },
 "nbformat": 4,
 "nbformat_minor": 5
}
